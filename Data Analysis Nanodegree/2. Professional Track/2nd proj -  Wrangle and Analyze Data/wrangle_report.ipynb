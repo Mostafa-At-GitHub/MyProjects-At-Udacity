{
 "cells": [
  {
   "cell_type": "markdown",
   "metadata": {},
   "source": [
    "<font color='#09aed9'><h1>\"<u>Wrangle and Analyze Data</u>\" Project <font color='#fe8589'> Wrangle report</font></h1></font>\n",
    "- [Gather](#Gather)\n",
    "- [Assess](#Assess)\n",
    "   - [Quality issues](#Quality)\n",
    "   - [Tidiness issues](#Tidiness)\n",
    "- [Clean](#Clean)\n",
    "[<font color='#5FB1FF'><h4><u>Insights Revealing</u></h4></font>](#Insight)\n",
    "    - [<font color='#AD1FFF'><h6>1st: The vast majority of the tweets were pushed up from \"Twitter\" app on an iPhone device with 1964 times and about 94% of total tweets</h6></font>](#1st)\n",
    "    - [<font color='green'><h6>2nd: 'Charlie', 'Lucy', 'Oliver' and Cooper are sharing almost the same times 11 or 10 to be a given name lying within the most given names, while 'Laika', 'Jeffri', 'Mollie', 'Leela', and 'Rhino' are lying on the tail with one time to be a given name</h6></font>](#2nd)\n",
    "    - [<font color='#5FB1FF'><h6>3rd: With 132810 likes, a tweet sent on 2017-01-21 6:26:02 PM from Twitter for iPhone hitted the top score of favorite (like) count with the text \"Here's a super supportive puppo participating in the Toronto #WomensMarch today. 13/10 https://t.co/nTz3FtorBc\" amongst all other tweets till August,1 2017</h6></font>](#3rd)\n",
    "    - [<font color='#BF1B00'><h6>4th: Though not reaching the highest favorite count, and being sent from the least source of tweets, an 'Atticus' got the top rating numerator with 1776 from @dog_rates amongst all other tweets since 2015-11-15 10:32:08 PM, till August,1 2017 4:23:56 PM, on a tweet sent on 2016-07-04 3:00:45 PM from TweetDeck with the text \"This is Atticus. He's quite simply America af. 1776/10 https://t.co/GRXwMxLBkh\"</h6></font>](#4th)\n",
    "    - [<font color='#FFC93F'><h6>5th: The most retweet count was for the favor of a \"doggo\" captured in a video by Tina Conrad, on a tweet sent on 2016-06-18 6:26:18 PM with the text \"Here's a doggo realizing you can stand in a pool. 13/10 enlightened af (vid by Tina Conrad) https://t.co/7wE9LTEXC4\"</h6></font>](#5th)"
   ]
  },
  {
   "cell_type": "markdown",
   "metadata": {},
   "source": [
    "<a id='Gather'></a>\n",
    "## Gather"
   ]
  },
  {
   "cell_type": "markdown",
   "metadata": {},
   "source": [
    "#### First, I gathered 3 different format files, twitter_archive_enhanced.csv, image_predictions.tsv and at last twitter-json.txt that holds tweets json data sets.\n",
    "#### The first file was downloaded directly, the second was downloaded programmatically, the third was extracted from a zip file programmatically after failing of code of twitter API to get the data."
   ]
  },
  {
   "cell_type": "markdown",
   "metadata": {},
   "source": [
    "#### After that, I loaded their data in corresponding pandas dataframes as copies."
   ]
  },
  {
   "cell_type": "markdown",
   "metadata": {},
   "source": [
    "<a id='Assess'></a>\n",
    "## Assess"
   ]
  },
  {
   "cell_type": "markdown",
   "metadata": {},
   "source": [
    "#### Then I assessed the files dataframes tables:\n",
    "#### 1. Visually: using spreadsheets, text editor software and pandas.\n",
    "#### 2. Programmatically : using pandas functions and methods like: `head()` , `info` , `value_counts()` , `duplicated()` , `sum()` , `sort_values()` ,`describe()`\n",
    "\n",
    "#### Below is what I had found out:"
   ]
  },
  {
   "cell_type": "markdown",
   "metadata": {},
   "source": [
    "<a id='Quality'></a>\n",
    "#### Quality issues\n",
    "##### `twitter_archive` __*table*__\n",
    "- Data type of tweet_id column is int64 instead of category\n",
    "- Data type of timestamp column is object instead of datetime\n",
    "- Source column contains distracting HTML tags\n",
    "- Dublicated url strings in expanded_urls column\n",
    "- Inaccurate username in expanded_urls column like (4bonds2carbon, kaijohnson_19,bbcworld) in urls column instead of (dog_rates)\n",
    "- Embedded Urls like (https://www.gofundme.com/mingusneedsus,) and (https://www.gofundme.com/3yd6y1c,) (https://www.gofundme.com/help-my-baby-sierra-get-better,) strings in expanded_urls column\n",
    "- Wrong urls of tweets in expanded_urls column\n",
    "- Missing urls of tweets in expanded_urls column\n",
    "- Data type of rating_numerator and rating_denominator columns is int64 instead of float\n",
    "- 'None's in (doggo ,floofer,pupper,puppo) instead of null\n",
    "- 'None's instead of null in name column\n",
    "- Ratings with decimal values incorrectly extracted\n",
    "- Wrong assigned rating for tweets with ids 810984652412424192 , 675153376133427200, 670783437142401025, 667549055577362432, and 666104133288665088\n",
    "- Rows that contain 'retweets' data that are not the original tweets meant for analysis\n",
    "- Rows that contain 'replys' data that are not the original tweets meant for analysis\n",
    "- Columns (in_reply_to_status_id, in_reply_to_user_id column, retweeted_status_id, retweeted_status_user_id, retweeted_status_timestamp) in twitter_archive table not needed in our analysis\n",
    "\n",
    "##### `image_predictions` __*table*__\n",
    "- img_num data type is int64 instead of category\n",
    "\n",
    "##### `tweet_json_df` __*table*__\n"
   ]
  },
  {
   "cell_type": "markdown",
   "metadata": {},
   "source": [
    "<a id='Tidiness'></a>\n",
    "#### Tidiness issues\n",
    "\n",
    "- (doggo ,floofer,pupper,puppo) in `twitter_archive` table represent one variable \"stage\" in four columns\n",
    "- (retweet_counts, favorite_counts) columns in `tweet_json_df` table should be part of the `twitter_archive` table, also (jpg_url,img_num) columns in `image_predictions` table should be part of the `twitter_archive` table. In general the three datasets should be merged as they are part of the same observational unit"
   ]
  },
  {
   "cell_type": "markdown",
   "metadata": {},
   "source": [
    "<a id='Clean'></a>\n",
    "## Clean"
   ]
  },
  {
   "cell_type": "markdown",
   "metadata": {},
   "source": [
    "### Tidiness"
   ]
  },
  {
   "cell_type": "markdown",
   "metadata": {},
   "source": [
    "#### I made stage column of concatenating (doggo,floofer,pupper,puppo) columns in twitter_archive table, then dropped the four separated columns at the end of cleaning up.\n",
    "\n",
    "#### Then, I merged `tweet_json_df_clean` dataeframe to `twitter_archive_clean` dataFrame to have the columns `retweet_counts` and `favorite_counts` within one `twitter_archive_clean` dataFrame\n",
    "#### After that I also merged `image_predictions_clean` dataeframe to `twitter_archive_clean`"
   ]
  },
  {
   "cell_type": "markdown",
   "metadata": {},
   "source": [
    "### Quality"
   ]
  },
  {
   "cell_type": "markdown",
   "metadata": {},
   "source": [
    "### In a brief:\n",
    "#### I omitted rows retweets and replys: \n",
    "by removing rows that have non-empty retweeted_status_id, retweeted_status_user_id, or retweeted_status_timestamp\n",
    "and in_reply_to_status_id.\n",
    "\n",
    "#### Then replacing distracting HTML tags in `source` column with the original sources like:\n",
    "\n",
    "\"Twitter for iPhone\" replaced `<a href=\"http://twitter.com/download/iphone\" rel=\"nofollow\">Twitter for iPhone</a>` \n",
    "\n",
    "#### After that, urls in `expanded_urls` were rehanlded with the string (\"https://twitter.com/dog_rates/status/\"+ tweet ID) where tweet ID was taken from the `tweet_id` column to set the tweet url correctly in its place on the table and to overcome issues like:\n",
    "1. URL dublications within the same cell in expanded_urls column\n",
    "2. Usernames like (4bonds2carbon, kaijohnson_19,bbcworld) in urls on expanded_urls column cells instead of the accurate username (dog_rates)\n",
    "3. trange embedded urls like (https://www.gofundme.com/mingusneedsus,), (https://www.gofundme.com/3yd6y1c,) and (https://www.gofundme.com/help-my-baby-sierra-get-better,) strings in expanded_urls column\n",
    "4. Wrong urls of tweets in expanded_urls column\n",
    "5. Missing urls in expanded_urls column\n",
    "\n",
    "#### Extracting correct decimal values ratings came later, then removing wrong assigned rating for a number of tweets.\n",
    "\n",
    "#### The 'None's in name column, and empty cells in stage column were changed to nulls.\n",
    "\n",
    "#### Columns `doggo`,`floofer`,`pupper`,`puppo`, and other columns not needed, at least in our analysis `in_reply_to_user_id`,`in_reply_to_user_id`,`retweeted_status_id`,`retweeted_status_user_id`,`retweeted_status_timestamp` were dropped off.\n",
    "\n",
    "#### Here were the conversions of columns' data types:\n",
    "- Change data type of `tweet_id column` and `img_num` to category\n",
    "- Change data type of`favorite_count` and `retweet_count` to int\n",
    "- Change data type of `timestamp` column to datetime\n",
    "- Change data type of `rating_numerator` and `rating_denominator` to float"
   ]
  },
  {
   "cell_type": "markdown",
   "metadata": {},
   "source": [
    "## Arranging `twitter_archive_clean` columns and exporting to a csv file"
   ]
  },
  {
   "cell_type": "markdown",
   "metadata": {},
   "source": [
    "#### I tended to sort the master tweets table by `timestamp` column ignoring maintaining original indexing of table.\n",
    "\n",
    "#### Then, I sorted the table columns in a list to rearrange columns order in the table as they fit.\n",
    "\n",
    "#### At last step I exported the master table to a csv file named `'twitter_archive_master.csv'`"
   ]
  },
  {
   "cell_type": "markdown",
   "metadata": {},
   "source": [
    "<a id='Insight'></a>\n",
    "<font color='#fe8589'><h2><u>Insights revealed</u></h2></font>"
   ]
  },
  {
   "cell_type": "markdown",
   "metadata": {},
   "source": [
    "#### Finally, I tried to extract a number of insights and here are some:"
   ]
  },
  {
   "cell_type": "markdown",
   "metadata": {},
   "source": [
    "<a id='1st'></a>\n",
    "<font color='#AD1FFF'><h3><b>1st Insight: <font color='#09aed5'>The vast majority of the tweets were pushed up from \"Twitter\" app on an iPhone device with 1964 times and about 94% of total tweets</font></b></h3></font>"
   ]
  },
  {
   "cell_type": "markdown",
   "metadata": {},
   "source": [
    "<a id='2nd'></a>\n",
    "<font color='#AD1FFF'><h3><b>2nd Insight: <font color='#09aed5'>'Charlie', 'Lucy', 'Oliver' and Cooper are sharing almost the same times 11 or 10 to be a given name lying within the most given names, while 'Laika', 'Jeffri', 'Mollie', 'Leela', and 'Rhino' are lying on the tail with one time to be a given name.</font></b></h3></font>"
   ]
  },
  {
   "cell_type": "markdown",
   "metadata": {},
   "source": [
    "<a id='3rd'></a>\n",
    "<font color='#AD1FFF'><h3><b>3rd Insight: <font color='#09aed5'>With 132810 likes, a tweet sent on 2017-01-21 6:26:02 PM from Twitter for iPhone hitted the top score of favorite (like) count with the text \"Here's a super supportive puppo participating in the Toronto  #WomensMarch today. 13/10 https://t.co/nTz3FtorBc\" amongst all other tweets till August,1 2017</font></b></h3></font>"
   ]
  },
  {
   "cell_type": "markdown",
   "metadata": {},
   "source": [
    "<a id='4th'></a>\n",
    "<font color='#AD1FFF'><h3><b>4th Insight: <font color='#09aed5'>Though not reaching the highest favorite count, and being sent from the least source of tweets, an 'Atticus' got the top rating numerator with 1776 from @dog_rates amongst all other tweets since 2015-11-15 10:32:08 PM, till August,1 2017 4:23:56 PM, on a tweet sent on 2016-07-04 3:00:45 PM from TweetDeck with the text \"This is Atticus. He's quite simply America af. 1776/10 https://t.co/GRXwMxLBkh\"</font></b></h3></font>"
   ]
  },
  {
   "cell_type": "markdown",
   "metadata": {},
   "source": [
    "<a id='5th'></a>\n",
    "<font color='#AD1FFF'><h3><b>5th Insight: <font color='#09aed5'>The most retweet count was for the favor of a \"doggo\" captured in a video by Tina Conrad, on a tweet sent on 2016-06-18 6:26:18 PM with the text \"Here's a doggo realizing you can stand in a pool. 13/10 enlightened af (vid by Tina Conrad) https://t.co/7wE9LTEXC4\"</font></b></h3></font>"
   ]
  }
 ],
 "metadata": {
  "kernelspec": {
   "display_name": "Python 3",
   "language": "python",
   "name": "python3"
  },
  "language_info": {
   "codemirror_mode": {
    "name": "ipython",
    "version": 3
   },
   "file_extension": ".py",
   "mimetype": "text/x-python",
   "name": "python",
   "nbconvert_exporter": "python",
   "pygments_lexer": "ipython3",
   "version": "3.9.2"
  }
 },
 "nbformat": 4,
 "nbformat_minor": 2
}
