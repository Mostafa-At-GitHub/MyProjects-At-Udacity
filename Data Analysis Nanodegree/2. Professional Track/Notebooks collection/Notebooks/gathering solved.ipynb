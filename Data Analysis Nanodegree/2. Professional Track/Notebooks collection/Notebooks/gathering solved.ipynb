{
 "cells": [
  {
   "cell_type": "markdown",
   "metadata": {},
   "source": [
    "## Quiz"
   ]
  },
  {
   "cell_type": "code",
   "execution_count": 1,
   "metadata": {},
   "outputs": [],
   "source": [
    "from bs4 import BeautifulSoup\n",
    "import os\n",
    "import pandas as pd"
   ]
  },
  {
   "cell_type": "code",
   "execution_count": 2,
   "metadata": {
    "scrolled": false
   },
   "outputs": [],
   "source": [
    "# List of dictionaries to build file by file and later convert to a DataFrame\n",
    "df_list = []\n",
    "folder = 'D:/منح ودورات اونلاين - NTL - FWD - Udacity - Coursera - edX - LinkedIn/Udacity/FWD/Data Professional Track/4. Data Wrangling/2 Gathering Data/rt_html'\n",
    "for movie_html in os.listdir(folder):\n",
    "    with open(os.path.join(folder, movie_html)) as file:\n",
    "        # Your code here\n",
    "        # Note: a correct implementation may take ~15 seconds to run\n",
    "        soup = BeautifulSoup(file,'lxml')\n",
    "        title = soup.find('title').contents[0][:-len(' - Rotten Tomatoes')].replace('أ©','é').replace('أ´','ô')\n",
    "        audience_score = soup.find('span',attrs={\"style\":\"vertical-align:top\",\n",
    "                                                 \"class\":\"superPageFontColor\"}).contents[0].strip('%')\n",
    "        num_audience_ratings = soup.find('div',attrs={ 'class':\"audience-info hidden-xs superPageFontColor\"}).contents[3].contents[2].strip().replace(',','')\n",
    "        # Append to list of dictionaries\n",
    "        df_list.append({'title': title,\n",
    "                        'audience_score': int(audience_score),\n",
    "                        'number_of_audience_ratings': int(num_audience_ratings)})\n",
    "df = pd.DataFrame(df_list, columns = ['title', 'audience_score', 'number_of_audience_ratings'])"
   ]
  },
  {
   "cell_type": "code",
   "execution_count": 3,
   "metadata": {
    "scrolled": true
   },
   "outputs": [
    {
     "data": {
      "text/html": [
       "<div>\n",
       "<style scoped>\n",
       "    .dataframe tbody tr th:only-of-type {\n",
       "        vertical-align: middle;\n",
       "    }\n",
       "\n",
       "    .dataframe tbody tr th {\n",
       "        vertical-align: top;\n",
       "    }\n",
       "\n",
       "    .dataframe thead th {\n",
       "        text-align: right;\n",
       "    }\n",
       "</style>\n",
       "<table border=\"1\" class=\"dataframe\">\n",
       "  <thead>\n",
       "    <tr style=\"text-align: right;\">\n",
       "      <th></th>\n",
       "      <th>title</th>\n",
       "      <th>audience_score</th>\n",
       "      <th>number_of_audience_ratings</th>\n",
       "    </tr>\n",
       "  </thead>\n",
       "  <tbody>\n",
       "    <tr>\n",
       "      <th>0</th>\n",
       "      <td>12 Angry Men (Twelve Angry Men) (1957)</td>\n",
       "      <td>97</td>\n",
       "      <td>103672</td>\n",
       "    </tr>\n",
       "    <tr>\n",
       "      <th>1</th>\n",
       "      <td>The 39 Steps (1935)</td>\n",
       "      <td>86</td>\n",
       "      <td>23647</td>\n",
       "    </tr>\n",
       "    <tr>\n",
       "      <th>2</th>\n",
       "      <td>The Adventures of Robin Hood (1938)</td>\n",
       "      <td>89</td>\n",
       "      <td>33584</td>\n",
       "    </tr>\n",
       "    <tr>\n",
       "      <th>3</th>\n",
       "      <td>All About Eve (1950)</td>\n",
       "      <td>94</td>\n",
       "      <td>44564</td>\n",
       "    </tr>\n",
       "    <tr>\n",
       "      <th>4</th>\n",
       "      <td>All Quiet on the Western Front (1930)</td>\n",
       "      <td>89</td>\n",
       "      <td>17768</td>\n",
       "    </tr>\n",
       "    <tr>\n",
       "      <th>...</th>\n",
       "      <td>...</td>\n",
       "      <td>...</td>\n",
       "      <td>...</td>\n",
       "    </tr>\n",
       "    <tr>\n",
       "      <th>95</th>\n",
       "      <td>Up (2009)</td>\n",
       "      <td>90</td>\n",
       "      <td>1201878</td>\n",
       "    </tr>\n",
       "    <tr>\n",
       "      <th>96</th>\n",
       "      <td>Vertigo (1958)</td>\n",
       "      <td>93</td>\n",
       "      <td>101454</td>\n",
       "    </tr>\n",
       "    <tr>\n",
       "      <th>97</th>\n",
       "      <td>The Wages of Fear (1953)</td>\n",
       "      <td>95</td>\n",
       "      <td>8536</td>\n",
       "    </tr>\n",
       "    <tr>\n",
       "      <th>98</th>\n",
       "      <td>Wonder Woman (2017)</td>\n",
       "      <td>90</td>\n",
       "      <td>112955</td>\n",
       "    </tr>\n",
       "    <tr>\n",
       "      <th>99</th>\n",
       "      <td>Zootopia (2016)</td>\n",
       "      <td>92</td>\n",
       "      <td>98633</td>\n",
       "    </tr>\n",
       "  </tbody>\n",
       "</table>\n",
       "<p>100 rows × 3 columns</p>\n",
       "</div>"
      ],
      "text/plain": [
       "                                     title  audience_score  \\\n",
       "0   12 Angry Men (Twelve Angry Men) (1957)              97   \n",
       "1                      The 39 Steps (1935)              86   \n",
       "2      The Adventures of Robin Hood (1938)              89   \n",
       "3                     All About Eve (1950)              94   \n",
       "4    All Quiet on the Western Front (1930)              89   \n",
       "..                                     ...             ...   \n",
       "95                               Up (2009)              90   \n",
       "96                          Vertigo (1958)              93   \n",
       "97                The Wages of Fear (1953)              95   \n",
       "98                     Wonder Woman (2017)              90   \n",
       "99                         Zootopia (2016)              92   \n",
       "\n",
       "    number_of_audience_ratings  \n",
       "0                       103672  \n",
       "1                        23647  \n",
       "2                        33584  \n",
       "3                        44564  \n",
       "4                        17768  \n",
       "..                         ...  \n",
       "95                     1201878  \n",
       "96                      101454  \n",
       "97                        8536  \n",
       "98                      112955  \n",
       "99                       98633  \n",
       "\n",
       "[100 rows x 3 columns]"
      ]
     },
     "execution_count": 3,
     "metadata": {},
     "output_type": "execute_result"
    }
   ],
   "source": [
    "df"
   ]
  },
  {
   "cell_type": "markdown",
   "metadata": {},
   "source": [
    "## Solution Test\n",
    "Run the cell below the see if your solution is correct. If an `AssertionError` is thrown, your solution is incorrect. If no error is thrown, your solution is correct."
   ]
  },
  {
   "cell_type": "code",
   "execution_count": 4,
   "metadata": {},
   "outputs": [],
   "source": [
    "df_solution = pd.read_pickle('D:/منح ودورات اونلاين - NTL - FWD - Udacity - Coursera - edX - LinkedIn/Udacity/FWD/Data Professional Track/4. Data Wrangling/2 Gathering Data/df_solution.pkl')\n",
    "df.sort_values('title', inplace = True)\n",
    "df.reset_index(inplace = True, drop = True)\n",
    "df_solution.sort_values('title', inplace = True)\n",
    "df_solution.reset_index(inplace = True, drop = True)\n",
    "pd.testing.assert_frame_equal(df, df_solution)"
   ]
  },
  {
   "cell_type": "code",
   "execution_count": 105,
   "metadata": {
    "scrolled": true
   },
   "outputs": [
    {
     "data": {
      "text/plain": [
       "title                         True\n",
       "audience_score                True\n",
       "number_of_audience_ratings    True\n",
       "dtype: bool"
      ]
     },
     "execution_count": 105,
     "metadata": {},
     "output_type": "execute_result"
    }
   ],
   "source": [
    "(df == df_solution).all()"
   ]
  },
  {
   "cell_type": "markdown",
   "metadata": {},
   "source": [
    "### Other testings"
   ]
  },
  {
   "cell_type": "code",
   "execution_count": 6,
   "metadata": {
    "collapsed": true
   },
   "outputs": [
    {
     "data": {
      "text/plain": [
       "['dr_strangelove.html',\n",
       " '1007818-frankenstein.html',\n",
       " '1000626-all_about_eve.html',\n",
       " 'roman_holiday.html',\n",
       " 'night_of_the_hunter.html',\n",
       " 'toy_story.html',\n",
       " 'treasure_of_the_sierra_madre.html',\n",
       " 'skyfall.html',\n",
       " 'the_wrestler.html',\n",
       " 'star_trek_11.html',\n",
       " 'the_dark_knight.html',\n",
       " '1000355-adventures_of_robin_hood.html',\n",
       " 'wages_of_fear.html',\n",
       " 'rosemarys_baby.html',\n",
       " 'the_cabinet_of_dr_caligari.html',\n",
       " 'la_confidential.html',\n",
       " 'star_wars_episode_vii_the_force_awakens.html',\n",
       " 'army_of_shadows.html',\n",
       " 'rashomon.html',\n",
       " 'pinocchio_1940.html',\n",
       " 'repulsion.html',\n",
       " 'jaws.html',\n",
       " 'the_wizard_of_oz_1939.html',\n",
       " '400_blows.html',\n",
       " 'hell_or_high_water.html',\n",
       " 'la_la_land.html',\n",
       " 'manchester_by_the_sea.html',\n",
       " 'harry_potter_and_the_deathly_hallows_part_2_2011.html',\n",
       " '1046060-high_noon.html',\n",
       " 'taxi_driver.html',\n",
       " 'toy_story_3.html',\n",
       " 'wonder_woman_2017.html',\n",
       " 'philadelphia_story.html',\n",
       " 'last_picture_show.html',\n",
       " '12_years_a_slave.html',\n",
       " '1000013-12_angry_men.html',\n",
       " 'the_third_man.html',\n",
       " '1000642-all_quiet_on_the_western_front.html',\n",
       " '1020333-streetcar_named_desire.html',\n",
       " '1013139-maltese_falcon.html',\n",
       " 'tokyo_story.html',\n",
       " 'battleship_potemkin.html',\n",
       " 'mad_max_fury_road.html',\n",
       " 'modern_times.html',\n",
       " 'gone_with_the_wind.html',\n",
       " 'dunkirk_2017.html',\n",
       " 'apocalypse_now.html',\n",
       " 'inside_out_2015.html',\n",
       " 'bicycle_thieves.html',\n",
       " 'seven_samurai_1956.html',\n",
       " 'alien.html',\n",
       " 'zootopia.html',\n",
       " 'baby_driver.html',\n",
       " 'moonlight_2016.html',\n",
       " 'sunset_boulevard.html',\n",
       " 'the_conformist.html',\n",
       " 'godfather.html',\n",
       " 'selma.html',\n",
       " '1017293-rebecca.html',\n",
       " '1003707-casablanca.html',\n",
       " 'north-by-northwest.html',\n",
       " 'argo_2012.html',\n",
       " 'gravity_2013.html',\n",
       " 'citizen_kane.html',\n",
       " 'arrival_2016.html',\n",
       " 'spotlight_2015.html',\n",
       " 'boyhood.html',\n",
       " 'nosferatu.html',\n",
       " '1012007-laura.html',\n",
       " 'logan_2017.html',\n",
       " 'the_babadook.html',\n",
       " 'grapes_of_wrath.html',\n",
       " 'it_happened_one_night.html',\n",
       " 'the_big_sick.html',\n",
       " 'on_the_waterfront.html',\n",
       " 'singin_in_the_rain.html',\n",
       " 'man_on_wire.html',\n",
       " 'la_grande_illusion.html',\n",
       " 'open_city.html',\n",
       " '1048445-snow_white_and_the_seven_dwarfs.html',\n",
       " '1017289-rear_window.html',\n",
       " '1012928-m.html',\n",
       " 'brooklyn.html',\n",
       " 'toy_story_2.html',\n",
       " '1000121-39_steps.html',\n",
       " 'finding_nemo.html',\n",
       " 'psycho.html',\n",
       " 'et_the_extraterrestrial.html',\n",
       " '1013775-metropolis.html',\n",
       " 'the_battle_of_algiers.html',\n",
       " 'bride_of_frankenstein.html',\n",
       " 'beatles_a_hard_days_night.html',\n",
       " '1021749-touch_of_evil.html',\n",
       " 'the_good_the_bad_and_the_ugly.html',\n",
       " 'vertigo.html',\n",
       " 'godfather_part_ii.html',\n",
       " 'up.html',\n",
       " 'the_jungle_book_2016.html',\n",
       " 'get_out.html',\n",
       " '1011615-king_kong.html']"
      ]
     },
     "execution_count": 6,
     "metadata": {},
     "output_type": "execute_result"
    }
   ],
   "source": [
    "os.listdir(folder)"
   ]
  },
  {
   "cell_type": "code",
   "execution_count": 22,
   "metadata": {
    "scrolled": false
   },
   "outputs": [
    {
     "name": "stdout",
     "output_type": "stream",
     "text": [
      "Tokyo Story (Tôkyô monogatari) (1953)\n",
      "93\n",
      "11325\n"
     ]
    }
   ],
   "source": [
    "####   my tryings\n",
    "#import locale\n",
    "#locale.setlocale(locale.encodings,'Windows-1252')\n",
    "folder = 'D:/منح ودورات اونلاين - NTL - FWD - Udacity - Coursera - edX - LinkedIn/Udacity/FWD/Data Professional Track/4. Data Wrangling/2 Gathering Data/rt_html'\n",
    "#for movie_html in os.listdir('rt_html'):\n",
    "with open(os.path.join(folder, 'tokyo_story.html')) as file:\n",
    "        #audience_score = soup.find('span',attrs={'superPageFontColor'}).contents[0].contents\n",
    "    soup = BeautifulSoup(file,'lxml')\n",
    "    print(soup.find('title').contents[0][:-len(' - Rotten Tomatoes')].replace('أ©','é').replace('أ´','ô'))\n",
    "    print(soup.find('span',attrs={\"style\":\"vertical-align:top\",\n",
    "                                      \"class\":\"superPageFontColor\"}).contents[0].strip('%'))\n",
    "    print(int(soup.find('div',attrs={ 'class':\"audience-info hidden-xs superPageFontColor\"}).contents[3].contents[2].strip().replace(',','')))"
   ]
  },
  {
   "cell_type": "markdown",
   "metadata": {},
   "source": [
    "##### *After adjusting non-Unicode characters in 'title', both 'DataFrames' had the same values in all columns:*"
   ]
  },
  {
   "cell_type": "markdown",
   "metadata": {},
   "source": [
    "`title = soup.find('title').contents[0][:-len(' - Rotten Tomatoes')].replace('أ©','é').replace('أ´','ô')`"
   ]
  },
  {
   "cell_type": "markdown",
   "metadata": {},
   "source": [
    "##### *Before adjusting non-Unicode characters in 'title', both 'DataFrames' weren't the same, and the 'title' column had different three values per each because of the \"latin-1\" letters encoded in undesired way, and the cells below show:*"
   ]
  },
  {
   "cell_type": "code",
   "execution_count": 6,
   "metadata": {
    "scrolled": true
   },
   "outputs": [
    {
     "data": {
      "text/plain": [
       "{\"Army of Shadows (L'Armée des ombres)\\xa0(1969)\",\n",
       " 'Rashômon\\xa0(1951)',\n",
       " 'Tokyo Story (Tôkyô monogatari)\\xa0(1953)'}"
      ]
     },
     "execution_count": 6,
     "metadata": {},
     "output_type": "execute_result"
    }
   ],
   "source": [
    "set(df_solution.title)-set(df.title)"
   ]
  },
  {
   "cell_type": "code",
   "execution_count": 16,
   "metadata": {
    "scrolled": false
   },
   "outputs": [
    {
     "data": {
      "text/plain": [
       "{\"Army of Shadows (L'Armأ©e des ombres)\\xa0(1969)\",\n",
       " 'Rashأ´mon\\xa0(1951)',\n",
       " 'Tokyo Story (Tأ´kyأ´ monogatari)\\xa0(1953)'}"
      ]
     },
     "execution_count": 16,
     "metadata": {},
     "output_type": "execute_result"
    }
   ],
   "source": [
    "set(df.title)-set(df_solution.title)"
   ]
  },
  {
   "cell_type": "code",
   "execution_count": 3,
   "metadata": {},
   "outputs": [
    {
     "ename": "AssertionError",
     "evalue": "DataFrame.iloc[:, 0] (column name=\"title\") are different\n\nDataFrame.iloc[:, 0] (column name=\"title\") values are different (3.0 %)\n[index]: [0, 1, 2, 3, 4, 5, 6, 7, 8, 9, 10, 11, 12, 13, 14, 15, 16, 17, 18, 19, 20, 21, 22, 23, 24, 25, 26, 27, 28, 29, 30, 31, 32, 33, 34, 35, 36, 37, 38, 39, 40, 41, 42, 43, 44, 45, 46, 47, 48, 49, 50, 51, 52, 53, 54, 55, 56, 57, 58, 59, 60, 61, 62, 63, 64, 65, 66, 67, 68, 69, 70, 71, 72, 73, 74, 75, 76, 77, 78, 79, 80, 81, 82, 83, 84, 85, 86, 87, 88, 89, 90, 91, 92, 93, 94, 95, 96, 97, 98, 99]\n[left]:  [12 Angry Men (Twelve Angry Men) (1957), 12 Years a Slave (2013), A Hard Day's Night (1964), A Streetcar Named Desire (1951), Alien (1979), All About Eve (1950), All Quiet on the Western Front (1930), Apocalypse Now (1979), Argo (2012), Army of Shadows (L'Armأ©e des ombres) (1969), Arrival (2016), Baby Driver (2017), Battleship Potemkin (1925), Bicycle Thieves (Ladri di biciclette) (1949), Boyhood (2014), Brooklyn (2015), Casablanca (1942), Citizen Kane (1941), Dr. Strangelove Or How I Learned to Stop Worrying and Love the Bomb (1964), Dunkirk (2017), E.T. The Extra-Terrestrial (1982), Finding Nemo (2003), Frankenstein (1931), Get Out (2017), Gone With the Wind (1939), Gravity (2013), Harry Potter and the Deathly Hallows - Part 2 (2011), Hell or High Water (2016), High Noon (1952), Inside Out (2015), It Happened One Night (1934), Jaws (1975), King Kong (1933), L.A. Confidential (1997), La Grande illusion (Grand Illusion) (1938), La La Land (2016), Laura (1944), Logan (2017), Mad Max: Fury Road (2015), Man on Wire (2008), Manchester by the Sea (2016), Metropolis (1927), Modern Times (1936), Moonlight (2016), M (1931), North by Northwest (1959), Nosferatu, a Symphony of Horror (Nosferatu, eine Symphonie des Grauens) (Nosferatu the Vampire) (1922), On the Waterfront (1954), Open City (1946), Pinocchio (1940), Psycho (1960), Rashأ´mon (1951), Rear Window (1954), Rebecca (1940), Repulsion (1965), Roman Holiday (1953), Rosemary's Baby (1968), Selma (2015), Seven Samurai (Shichinin no Samurai) (1956), Singin' in the Rain (1952), Skyfall (2012), Snow White and the Seven Dwarfs (1937), Spotlight (2015), Star Trek (2009), Star Wars: Episode VII - The Force Awakens (2015), Sunset Boulevard (1950), Taxi Driver (1976), The 39 Steps (1935), The 400 Blows (Les Quatre cents coups) (1959), The Adventures of Robin Hood (1938), The Babadook (2014), The Battle of Algiers (La Battaglia di Algeri) (1967), The Big Sick (2017), The Bride of Frankenstein (1935), The Cabinet of Dr. Caligari (Das Cabinet des Dr. Caligari) (1920), The Conformist (1970), The Dark Knight (2008), The Godfather, Part II (1974), The Godfather (1972), The Good, the Bad and the Ugly (1966), The Grapes of Wrath (1940), The Jungle Book (2016), The Last Picture Show (1971), The Maltese Falcon (1941), The Night of the Hunter (1955), The Philadelphia Story (1940), The Third Man (1949), The Treasure of the Sierra Madre (1948), The Wages of Fear (1953), The Wizard of Oz (1939), The Wrestler (2008), Tokyo Story (Tأ´kyأ´ monogatari) (1953), Touch of Evil (1958), Toy Story 2 (1999), Toy Story 3 (2010), Toy Story (1995), Up (2009), Vertigo (1958), Wonder Woman (2017), Zootopia (2016)]\n[right]: [12 Angry Men (Twelve Angry Men) (1957), 12 Years a Slave (2013), A Hard Day's Night (1964), A Streetcar Named Desire (1951), Alien (1979), All About Eve (1950), All Quiet on the Western Front (1930), Apocalypse Now (1979), Argo (2012), Army of Shadows (L'Armée des ombres) (1969), Arrival (2016), Baby Driver (2017), Battleship Potemkin (1925), Bicycle Thieves (Ladri di biciclette) (1949), Boyhood (2014), Brooklyn (2015), Casablanca (1942), Citizen Kane (1941), Dr. Strangelove Or How I Learned to Stop Worrying and Love the Bomb (1964), Dunkirk (2017), E.T. The Extra-Terrestrial (1982), Finding Nemo (2003), Frankenstein (1931), Get Out (2017), Gone With the Wind (1939), Gravity (2013), Harry Potter and the Deathly Hallows - Part 2 (2011), Hell or High Water (2016), High Noon (1952), Inside Out (2015), It Happened One Night (1934), Jaws (1975), King Kong (1933), L.A. Confidential (1997), La Grande illusion (Grand Illusion) (1938), La La Land (2016), Laura (1944), Logan (2017), Mad Max: Fury Road (2015), Man on Wire (2008), Manchester by the Sea (2016), Metropolis (1927), Modern Times (1936), Moonlight (2016), M (1931), North by Northwest (1959), Nosferatu, a Symphony of Horror (Nosferatu, eine Symphonie des Grauens) (Nosferatu the Vampire) (1922), On the Waterfront (1954), Open City (1946), Pinocchio (1940), Psycho (1960), Rashômon (1951), Rear Window (1954), Rebecca (1940), Repulsion (1965), Roman Holiday (1953), Rosemary's Baby (1968), Selma (2015), Seven Samurai (Shichinin no Samurai) (1956), Singin' in the Rain (1952), Skyfall (2012), Snow White and the Seven Dwarfs (1937), Spotlight (2015), Star Trek (2009), Star Wars: Episode VII - The Force Awakens (2015), Sunset Boulevard (1950), Taxi Driver (1976), The 39 Steps (1935), The 400 Blows (Les Quatre cents coups) (1959), The Adventures of Robin Hood (1938), The Babadook (2014), The Battle of Algiers (La Battaglia di Algeri) (1967), The Big Sick (2017), The Bride of Frankenstein (1935), The Cabinet of Dr. Caligari (Das Cabinet des Dr. Caligari) (1920), The Conformist (1970), The Dark Knight (2008), The Godfather, Part II (1974), The Godfather (1972), The Good, the Bad and the Ugly (1966), The Grapes of Wrath (1940), The Jungle Book (2016), The Last Picture Show (1971), The Maltese Falcon (1941), The Night of the Hunter (1955), The Philadelphia Story (1940), The Third Man (1949), The Treasure of the Sierra Madre (1948), The Wages of Fear (1953), The Wizard of Oz (1939), The Wrestler (2008), Tokyo Story (Tôkyô monogatari) (1953), Touch of Evil (1958), Toy Story 2 (1999), Toy Story 3 (2010), Toy Story (1995), Up (2009), Vertigo (1958), Wonder Woman (2017), Zootopia (2016)]",
     "output_type": "error",
     "traceback": [
      "\u001b[1;31m---------------------------------------------------------------------------\u001b[0m",
      "\u001b[1;31mAssertionError\u001b[0m                            Traceback (most recent call last)",
      "\u001b[1;32m<ipython-input-3-4a475a8e7398>\u001b[0m in \u001b[0;36m<module>\u001b[1;34m\u001b[0m\n\u001b[0;32m      4\u001b[0m \u001b[0mdf_solution\u001b[0m\u001b[1;33m.\u001b[0m\u001b[0msort_values\u001b[0m\u001b[1;33m(\u001b[0m\u001b[1;34m'title'\u001b[0m\u001b[1;33m,\u001b[0m \u001b[0minplace\u001b[0m \u001b[1;33m=\u001b[0m \u001b[1;32mTrue\u001b[0m\u001b[1;33m)\u001b[0m\u001b[1;33m\u001b[0m\u001b[1;33m\u001b[0m\u001b[0m\n\u001b[0;32m      5\u001b[0m \u001b[0mdf_solution\u001b[0m\u001b[1;33m.\u001b[0m\u001b[0mreset_index\u001b[0m\u001b[1;33m(\u001b[0m\u001b[0minplace\u001b[0m \u001b[1;33m=\u001b[0m \u001b[1;32mTrue\u001b[0m\u001b[1;33m,\u001b[0m \u001b[0mdrop\u001b[0m \u001b[1;33m=\u001b[0m \u001b[1;32mTrue\u001b[0m\u001b[1;33m)\u001b[0m\u001b[1;33m\u001b[0m\u001b[1;33m\u001b[0m\u001b[0m\n\u001b[1;32m----> 6\u001b[1;33m \u001b[0mpd\u001b[0m\u001b[1;33m.\u001b[0m\u001b[0mtesting\u001b[0m\u001b[1;33m.\u001b[0m\u001b[0massert_frame_equal\u001b[0m\u001b[1;33m(\u001b[0m\u001b[0mdf\u001b[0m\u001b[1;33m,\u001b[0m \u001b[0mdf_solution\u001b[0m\u001b[1;33m)\u001b[0m\u001b[1;33m\u001b[0m\u001b[1;33m\u001b[0m\u001b[0m\n\u001b[0m",
      "    \u001b[1;31m[... skipping hidden 2 frame]\u001b[0m\n",
      "\u001b[1;32mpandas\\_libs\\testing.pyx\u001b[0m in \u001b[0;36mpandas._libs.testing.assert_almost_equal\u001b[1;34m()\u001b[0m\n",
      "\u001b[1;32mpandas\\_libs\\testing.pyx\u001b[0m in \u001b[0;36mpandas._libs.testing.assert_almost_equal\u001b[1;34m()\u001b[0m\n",
      "\u001b[1;32mc:\\users\\un\\appdata\\local\\programs\\python\\python39\\lib\\site-packages\\pandas\\_testing.py\u001b[0m in \u001b[0;36mraise_assert_detail\u001b[1;34m(obj, message, left, right, diff, index_values)\u001b[0m\n\u001b[0;32m   1071\u001b[0m         \u001b[0mmsg\u001b[0m \u001b[1;33m+=\u001b[0m \u001b[1;34mf\"\\n[diff]: {diff}\"\u001b[0m\u001b[1;33m\u001b[0m\u001b[1;33m\u001b[0m\u001b[0m\n\u001b[0;32m   1072\u001b[0m \u001b[1;33m\u001b[0m\u001b[0m\n\u001b[1;32m-> 1073\u001b[1;33m     \u001b[1;32mraise\u001b[0m \u001b[0mAssertionError\u001b[0m\u001b[1;33m(\u001b[0m\u001b[0mmsg\u001b[0m\u001b[1;33m)\u001b[0m\u001b[1;33m\u001b[0m\u001b[1;33m\u001b[0m\u001b[0m\n\u001b[0m\u001b[0;32m   1074\u001b[0m \u001b[1;33m\u001b[0m\u001b[0m\n\u001b[0;32m   1075\u001b[0m \u001b[1;33m\u001b[0m\u001b[0m\n",
      "\u001b[1;31mAssertionError\u001b[0m: DataFrame.iloc[:, 0] (column name=\"title\") are different\n\nDataFrame.iloc[:, 0] (column name=\"title\") values are different (3.0 %)\n[index]: [0, 1, 2, 3, 4, 5, 6, 7, 8, 9, 10, 11, 12, 13, 14, 15, 16, 17, 18, 19, 20, 21, 22, 23, 24, 25, 26, 27, 28, 29, 30, 31, 32, 33, 34, 35, 36, 37, 38, 39, 40, 41, 42, 43, 44, 45, 46, 47, 48, 49, 50, 51, 52, 53, 54, 55, 56, 57, 58, 59, 60, 61, 62, 63, 64, 65, 66, 67, 68, 69, 70, 71, 72, 73, 74, 75, 76, 77, 78, 79, 80, 81, 82, 83, 84, 85, 86, 87, 88, 89, 90, 91, 92, 93, 94, 95, 96, 97, 98, 99]\n[left]:  [12 Angry Men (Twelve Angry Men) (1957), 12 Years a Slave (2013), A Hard Day's Night (1964), A Streetcar Named Desire (1951), Alien (1979), All About Eve (1950), All Quiet on the Western Front (1930), Apocalypse Now (1979), Argo (2012), Army of Shadows (L'Armأ©e des ombres) (1969), Arrival (2016), Baby Driver (2017), Battleship Potemkin (1925), Bicycle Thieves (Ladri di biciclette) (1949), Boyhood (2014), Brooklyn (2015), Casablanca (1942), Citizen Kane (1941), Dr. Strangelove Or How I Learned to Stop Worrying and Love the Bomb (1964), Dunkirk (2017), E.T. The Extra-Terrestrial (1982), Finding Nemo (2003), Frankenstein (1931), Get Out (2017), Gone With the Wind (1939), Gravity (2013), Harry Potter and the Deathly Hallows - Part 2 (2011), Hell or High Water (2016), High Noon (1952), Inside Out (2015), It Happened One Night (1934), Jaws (1975), King Kong (1933), L.A. Confidential (1997), La Grande illusion (Grand Illusion) (1938), La La Land (2016), Laura (1944), Logan (2017), Mad Max: Fury Road (2015), Man on Wire (2008), Manchester by the Sea (2016), Metropolis (1927), Modern Times (1936), Moonlight (2016), M (1931), North by Northwest (1959), Nosferatu, a Symphony of Horror (Nosferatu, eine Symphonie des Grauens) (Nosferatu the Vampire) (1922), On the Waterfront (1954), Open City (1946), Pinocchio (1940), Psycho (1960), Rashأ´mon (1951), Rear Window (1954), Rebecca (1940), Repulsion (1965), Roman Holiday (1953), Rosemary's Baby (1968), Selma (2015), Seven Samurai (Shichinin no Samurai) (1956), Singin' in the Rain (1952), Skyfall (2012), Snow White and the Seven Dwarfs (1937), Spotlight (2015), Star Trek (2009), Star Wars: Episode VII - The Force Awakens (2015), Sunset Boulevard (1950), Taxi Driver (1976), The 39 Steps (1935), The 400 Blows (Les Quatre cents coups) (1959), The Adventures of Robin Hood (1938), The Babadook (2014), The Battle of Algiers (La Battaglia di Algeri) (1967), The Big Sick (2017), The Bride of Frankenstein (1935), The Cabinet of Dr. Caligari (Das Cabinet des Dr. Caligari) (1920), The Conformist (1970), The Dark Knight (2008), The Godfather, Part II (1974), The Godfather (1972), The Good, the Bad and the Ugly (1966), The Grapes of Wrath (1940), The Jungle Book (2016), The Last Picture Show (1971), The Maltese Falcon (1941), The Night of the Hunter (1955), The Philadelphia Story (1940), The Third Man (1949), The Treasure of the Sierra Madre (1948), The Wages of Fear (1953), The Wizard of Oz (1939), The Wrestler (2008), Tokyo Story (Tأ´kyأ´ monogatari) (1953), Touch of Evil (1958), Toy Story 2 (1999), Toy Story 3 (2010), Toy Story (1995), Up (2009), Vertigo (1958), Wonder Woman (2017), Zootopia (2016)]\n[right]: [12 Angry Men (Twelve Angry Men) (1957), 12 Years a Slave (2013), A Hard Day's Night (1964), A Streetcar Named Desire (1951), Alien (1979), All About Eve (1950), All Quiet on the Western Front (1930), Apocalypse Now (1979), Argo (2012), Army of Shadows (L'Armée des ombres) (1969), Arrival (2016), Baby Driver (2017), Battleship Potemkin (1925), Bicycle Thieves (Ladri di biciclette) (1949), Boyhood (2014), Brooklyn (2015), Casablanca (1942), Citizen Kane (1941), Dr. Strangelove Or How I Learned to Stop Worrying and Love the Bomb (1964), Dunkirk (2017), E.T. The Extra-Terrestrial (1982), Finding Nemo (2003), Frankenstein (1931), Get Out (2017), Gone With the Wind (1939), Gravity (2013), Harry Potter and the Deathly Hallows - Part 2 (2011), Hell or High Water (2016), High Noon (1952), Inside Out (2015), It Happened One Night (1934), Jaws (1975), King Kong (1933), L.A. Confidential (1997), La Grande illusion (Grand Illusion) (1938), La La Land (2016), Laura (1944), Logan (2017), Mad Max: Fury Road (2015), Man on Wire (2008), Manchester by the Sea (2016), Metropolis (1927), Modern Times (1936), Moonlight (2016), M (1931), North by Northwest (1959), Nosferatu, a Symphony of Horror (Nosferatu, eine Symphonie des Grauens) (Nosferatu the Vampire) (1922), On the Waterfront (1954), Open City (1946), Pinocchio (1940), Psycho (1960), Rashômon (1951), Rear Window (1954), Rebecca (1940), Repulsion (1965), Roman Holiday (1953), Rosemary's Baby (1968), Selma (2015), Seven Samurai (Shichinin no Samurai) (1956), Singin' in the Rain (1952), Skyfall (2012), Snow White and the Seven Dwarfs (1937), Spotlight (2015), Star Trek (2009), Star Wars: Episode VII - The Force Awakens (2015), Sunset Boulevard (1950), Taxi Driver (1976), The 39 Steps (1935), The 400 Blows (Les Quatre cents coups) (1959), The Adventures of Robin Hood (1938), The Babadook (2014), The Battle of Algiers (La Battaglia di Algeri) (1967), The Big Sick (2017), The Bride of Frankenstein (1935), The Cabinet of Dr. Caligari (Das Cabinet des Dr. Caligari) (1920), The Conformist (1970), The Dark Knight (2008), The Godfather, Part II (1974), The Godfather (1972), The Good, the Bad and the Ugly (1966), The Grapes of Wrath (1940), The Jungle Book (2016), The Last Picture Show (1971), The Maltese Falcon (1941), The Night of the Hunter (1955), The Philadelphia Story (1940), The Third Man (1949), The Treasure of the Sierra Madre (1948), The Wages of Fear (1953), The Wizard of Oz (1939), The Wrestler (2008), Tokyo Story (Tôkyô monogatari) (1953), Touch of Evil (1958), Toy Story 2 (1999), Toy Story 3 (2010), Toy Story (1995), Up (2009), Vertigo (1958), Wonder Woman (2017), Zootopia (2016)]"
     ]
    }
   ],
   "source": [
    "df_solution = pd.read_pickle('D:/منح ودورات اونلاين - NTL - FWD - Udacity - Coursera - edX - LinkedIn/Udacity/FWD/Data Professional Track/4. Data Wrangling/2 Gathering Data/df_solution.pkl')\n",
    "df.sort_values('title', inplace = True)\n",
    "df.reset_index(inplace = True, drop = True)\n",
    "df_solution.sort_values('title', inplace = True)\n",
    "df_solution.reset_index(inplace = True, drop = True)\n",
    "pd.testing.assert_frame_equal(df, df_solution)"
   ]
  }
 ],
 "metadata": {
  "kernelspec": {
   "display_name": "Python 3",
   "language": "python",
   "name": "python3"
  },
  "language_info": {
   "codemirror_mode": {
    "name": "ipython",
    "version": 3
   },
   "file_extension": ".py",
   "mimetype": "text/x-python",
   "name": "python",
   "nbconvert_exporter": "python",
   "pygments_lexer": "ipython3",
   "version": "3.9.2"
  }
 },
 "nbformat": 4,
 "nbformat_minor": 2
}
