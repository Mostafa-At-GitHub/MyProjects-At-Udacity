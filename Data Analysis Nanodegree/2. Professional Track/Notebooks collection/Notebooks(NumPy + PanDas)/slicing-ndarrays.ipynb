{
 "cells": [
  {
   "cell_type": "markdown",
   "metadata": {},
   "source": [
    "### Slicing\n",
    "1. ndarray[start:end]\n",
    "2. ndarray[start:]\n",
    "3. ndarray[:end]\n",
    "\n",
    "#### Example 1. Slicing in a 2-D ndarray "
   ]
  },
  {
   "cell_type": "code",
   "execution_count": 2,
   "metadata": {},
   "outputs": [
    {
     "name": "stdout",
     "output_type": "stream",
     "text": [
      "\n",
      "X = \n",
      " [[ 0  1  2  3  4]\n",
      " [ 5  6  7  8  9]\n",
      " [10 11 12 13 14]\n",
      " [15 16 17 18 19]]\n",
      "\n",
      "Z = \n",
      " [[ 7  8  9]\n",
      " [12 13 14]\n",
      " [17 18 19]]\n",
      "\n",
      "W = \n",
      " [[ 7  8  9]\n",
      " [12 13 14]\n",
      " [17 18 19]]\n",
      "\n",
      "Y = \n",
      " [[ 2  3  4]\n",
      " [ 7  8  9]\n",
      " [12 13 14]]\n",
      "\n",
      "v =  [10 11 12 13 14]\n",
      "\n",
      "q =  [ 2  7 12 17]\n",
      "\n",
      "R = \n",
      " [[ 2]\n",
      " [ 7]\n",
      " [12]\n",
      " [17]]\n"
     ]
    }
   ],
   "source": [
    "import numpy as np\n",
    "\n",
    "# We create a 4 x 5 ndarray that contains integers from 0 to 19\n",
    "X = np.arange(20).reshape(4, 5)\n",
    "\n",
    "# We print X\n",
    "print()\n",
    "print('X = \\n', X)\n",
    "print()\n",
    "\n",
    "# We select all the elements that are in the 2nd through 4th rows and in the 3rd to 5th columns\n",
    "Z = X[1:4,2:5]\n",
    "\n",
    "# We print Z\n",
    "print('Z = \\n', Z)\n",
    "\n",
    "# We can select the same elements as above using method 2\n",
    "W = X[1:,2:5]\n",
    "\n",
    "# We print W\n",
    "print()\n",
    "print('W = \\n', W)\n",
    "\n",
    "# We select all the elements that are in the 1st through 3rd rows and in the 3rd to 4th columns\n",
    "Y = X[:3,2:5]\n",
    "\n",
    "# We print Y\n",
    "print()\n",
    "print('Y = \\n', Y)\n",
    "\n",
    "# We select all the elements in the 3rd row\n",
    "v = X[2,:]\n",
    "\n",
    "# We print v\n",
    "print()\n",
    "print('v = ', v)\n",
    "\n",
    "# We select all the elements in the 3rd column\n",
    "q = X[:,2]\n",
    "\n",
    "# We print q\n",
    "print()\n",
    "print('q = ', q)\n",
    "\n",
    "# We select all the elements in the 3rd column but return a rank 2 ndarray\n",
    "R = X[:,2:3]\n",
    "\n",
    "# We print R\n",
    "print()\n",
    "print('R = \\n', R)\n"
   ]
  },
  {
   "cell_type": "markdown",
   "metadata": {},
   "source": [
    "#### Example 2. Slicing and editing elements in a 2-D ndarray "
   ]
  },
  {
   "cell_type": "code",
   "execution_count": 3,
   "metadata": {},
   "outputs": [
    {
     "name": "stdout",
     "output_type": "stream",
     "text": [
      "\n",
      "X = \n",
      " [[ 0  1  2  3  4]\n",
      " [ 5  6  7  8  9]\n",
      " [10 11 12 13 14]\n",
      " [15 16 17 18 19]]\n",
      "\n",
      "\n",
      "Z = \n",
      " [[ 7  8  9]\n",
      " [12 13 14]\n",
      " [17 18 19]]\n",
      "\n",
      "\n",
      "X = \n",
      " [[  0   1   2   3   4]\n",
      " [  5   6   7   8   9]\n",
      " [ 10  11  12  13  14]\n",
      " [ 15  16  17  18 555]]\n",
      "\n"
     ]
    }
   ],
   "source": [
    "# We create a 4 x 5 ndarray that contains integers from 0 to 19\n",
    "X = np.arange(20).reshape(4, 5)\n",
    "\n",
    "# We print X\n",
    "print()\n",
    "print('X = \\n', X)\n",
    "print()\n",
    "\n",
    "# We select all the elements that are in the 2nd through 4th rows and in the 3rd to 4th columns\n",
    "Z = X[1:4,2:5]\n",
    "\n",
    "# We print Z\n",
    "print()\n",
    "print('Z = \\n', Z)\n",
    "print()\n",
    "\n",
    "# We change the last element in Z to 555\n",
    "Z[2,2] = 555\n",
    "\n",
    "# We print X\n",
    "print()\n",
    "print('X = \\n', X)\n",
    "print()"
   ]
  },
  {
   "cell_type": "markdown",
   "metadata": {},
   "source": [
    "#### Example 3. Demonstrate the `copy()` function"
   ]
  },
  {
   "cell_type": "code",
   "execution_count": 4,
   "metadata": {},
   "outputs": [
    {
     "name": "stdout",
     "output_type": "stream",
     "text": [
      "\n",
      "X = \n",
      " [[ 0  1  2  3  4]\n",
      " [ 5  6  7  8  9]\n",
      " [10 11 12 13 14]\n",
      " [15 16 17 18 19]]\n",
      "\n",
      "\n",
      "X = \n",
      " [[ 0  1  2  3  4]\n",
      " [ 5  6  7  8  9]\n",
      " [10 11 12 13 14]\n",
      " [15 16 17 18 19]]\n",
      "\n",
      "Z = \n",
      " [[  7   8   9]\n",
      " [ 12  13  14]\n",
      " [ 17  18 555]]\n",
      "\n",
      "W = \n",
      " [[  7   8   9]\n",
      " [ 12  13  14]\n",
      " [ 17  18 444]]\n"
     ]
    }
   ],
   "source": [
    "# We create a 4 x 5 ndarray that contains integers from 0 to 19\n",
    "X = np.arange(20).reshape(4, 5)\n",
    "\n",
    "# We print X\n",
    "print()\n",
    "print('X = \\n', X)\n",
    "print()\n",
    "\n",
    "# create a copy of the slice using the np.copy() function\n",
    "Z = np.copy(X[1:4,2:5])\n",
    "\n",
    "#  create a copy of the slice using the copy as a method\n",
    "W = X[1:4,2:5].copy()\n",
    "\n",
    "# We change the last element in Z to 555\n",
    "Z[2,2] = 555\n",
    "\n",
    "# We change the last element in W to 444\n",
    "W[2,2] = 444\n",
    "\n",
    "# We print X\n",
    "print()\n",
    "print('X = \\n', X)\n",
    "\n",
    "# We print Z\n",
    "print()\n",
    "print('Z = \\n', Z)\n",
    "\n",
    "# We print W\n",
    "print()\n",
    "print('W = \\n', W)"
   ]
  },
  {
   "cell_type": "markdown",
   "metadata": {},
   "source": [
    "#### Example 4. Use an array as indices to either make slices, select, or change elements"
   ]
  },
  {
   "cell_type": "code",
   "execution_count": 5,
   "metadata": {},
   "outputs": [
    {
     "name": "stdout",
     "output_type": "stream",
     "text": [
      "\n",
      "X = \n",
      " [[ 0  1  2  3  4]\n",
      " [ 5  6  7  8  9]\n",
      " [10 11 12 13 14]\n",
      " [15 16 17 18 19]]\n",
      "\n",
      "indices =  [1 3]\n",
      "\n",
      "\n",
      "Y = \n",
      " [[ 5  6  7  8  9]\n",
      " [15 16 17 18 19]]\n",
      "\n",
      "Z = \n",
      " [[ 1  3]\n",
      " [ 6  8]\n",
      " [11 13]\n",
      " [16 18]]\n"
     ]
    }
   ],
   "source": [
    "# We create a 4 x 5 ndarray that contains integers from 0 to 19\n",
    "X = np.arange(20).reshape(4, 5)\n",
    "\n",
    "# We create a rank 1 ndarray that will serve as indices to select elements from X\n",
    "indices = np.array([1,3])\n",
    "\n",
    "# We print X\n",
    "print()\n",
    "print('X = \\n', X)\n",
    "print()\n",
    "\n",
    "# We print indices\n",
    "print('indices = ', indices)\n",
    "print()\n",
    "\n",
    "# We use the indices ndarray to select the 2nd and 4th row of X\n",
    "Y = X[indices,:]\n",
    "\n",
    "# We use the indices ndarray to select the 2nd and 4th column of X\n",
    "Z = X[:, indices]\n",
    "\n",
    "# We print Y\n",
    "print()\n",
    "print('Y = \\n', Y)\n",
    "\n",
    "# We print Z\n",
    "print()\n",
    "print('Z = \\n', Z)"
   ]
  },
  {
   "cell_type": "markdown",
   "metadata": {},
   "source": [
    "#### Example 5. Demonstrate the `diag()` function"
   ]
  },
  {
   "cell_type": "code",
   "execution_count": 6,
   "metadata": {},
   "outputs": [
    {
     "name": "stdout",
     "output_type": "stream",
     "text": [
      "\n",
      "X = \n",
      " [[ 0  1  2  3  4]\n",
      " [ 5  6  7  8  9]\n",
      " [10 11 12 13 14]\n",
      " [15 16 17 18 19]\n",
      " [20 21 22 23 24]]\n",
      "\n",
      "z = [ 0  6 12 18 24]\n",
      "\n",
      "y = [ 1  7 13 19]\n",
      "\n",
      "w =  [ 5 11 17 23]\n"
     ]
    }
   ],
   "source": [
    "# We create a 4 x 5 ndarray that contains integers from 0 to 19\n",
    "X = np.arange(25).reshape(5, 5)\n",
    "\n",
    "# We print X\n",
    "print()\n",
    "print('X = \\n', X)\n",
    "print()\n",
    "\n",
    "# We print the elements in the main diagonal of X\n",
    "print('z =', np.diag(X))\n",
    "print()\n",
    "\n",
    "# We print the elements above the main diagonal of X\n",
    "print('y =', np.diag(X, k=1))\n",
    "print()\n",
    "\n",
    "# We print the elements below the main diagonal of X\n",
    "print('w = ', np.diag(X, k=-1))"
   ]
  },
  {
   "cell_type": "markdown",
   "metadata": {},
   "source": [
    "#### Example 6. Demonstrate the `unique()` function"
   ]
  },
  {
   "cell_type": "code",
   "execution_count": 7,
   "metadata": {},
   "outputs": [
    {
     "name": "stdout",
     "output_type": "stream",
     "text": [
      "\n",
      "X = \n",
      " [[1 2 3]\n",
      " [5 2 8]\n",
      " [1 2 3]]\n",
      "\n",
      "The unique elements in X are: [1 2 3 5 8]\n"
     ]
    }
   ],
   "source": [
    "# Create 3 x 3 ndarray with repeated values\n",
    "X = np.array([[1,2,3],[5,2,8],[1,2,3]])\n",
    "\n",
    "# We print X\n",
    "print()\n",
    "print('X = \\n', X)\n",
    "print()\n",
    "\n",
    "# We print the unique elements of X \n",
    "print('The unique elements in X are:',np.unique(X))"
   ]
  }
 ],
 "metadata": {
  "kernelspec": {
   "display_name": "Python 3",
   "language": "python",
   "name": "python3"
  },
  "language_info": {
   "codemirror_mode": {
    "name": "ipython",
    "version": 3
   },
   "file_extension": ".py",
   "mimetype": "text/x-python",
   "name": "python",
   "nbconvert_exporter": "python",
   "pygments_lexer": "ipython3",
   "version": "3.8.5"
  }
 },
 "nbformat": 4,
 "nbformat_minor": 4
}
